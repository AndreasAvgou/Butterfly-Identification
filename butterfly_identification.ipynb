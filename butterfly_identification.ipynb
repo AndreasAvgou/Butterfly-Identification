{
  "cells": [
    {
      "cell_type": "markdown",
      "metadata": {
        "id": "wsIqjb7Ebs3B"
      },
      "source": [
        "## Loading Libraries\n",
        "All Python capabilities are not loaded to our working environment by default (even they are already installed in your system). So, we import each and every library that we want to use.\n",
        "\n",
        "We chose alias names for our libraries for the sake of our convenience (numpy --> np and pandas --> pd, tensorlow --> tf).\n",
        "\n",
        "Note: You can import all the libraries that you think will be required or can import it as you go along."
      ]
    },
    {
      "cell_type": "code",
      "execution_count": 1,
      "metadata": {
        "id": "BIe16kmoUmhr"
      },
      "outputs": [],
      "source": [
        "import pandas as pd                                     # Data analysis and manipultion tool\n",
        "import numpy as np                                      # Fundamental package for linear algebra and multidimensional arrays\n",
        "import tensorflow as tf                                 # Deep Learning Tool\n",
        "import os                                               # OS module in Python provides a way of using operating system dependent functionality\n",
        "import cv2                                              # Library for image processing\n",
        "from sklearn.model_selection import train_test_split    # For splitting the data into train and validation set"
      ]
    },
    {
      "cell_type": "code",
      "execution_count": 2,
      "metadata": {
        "id": "AB4AXPUZdrRq",
        "colab": {
          "base_uri": "https://localhost:8080/"
        },
        "outputId": "a528dda6-089c-4ddd-fae8-a0c93b2c8290"
      },
      "outputs": [
        {
          "output_type": "stream",
          "name": "stdout",
          "text": [
            "Mounted at /content/drive\n"
          ]
        }
      ],
      "source": [
        "from google.colab import drive\n",
        "drive.mount('/content/drive')"
      ]
    },
    {
      "cell_type": "markdown",
      "metadata": {
        "id": "IAXqCpedduVx"
      },
      "source": [
        "## Loading and preparing training data\n",
        "The train and test images are given in two different folders - 'train' and 'test'. The labels of train images are given in a csv file 'Train.csv' with respective image id (i.e. image file name)."
      ]
    },
    {
      "cell_type": "markdown",
      "metadata": {
        "id": "Wjw1Z9Uqesey"
      },
      "source": [
        "#### Getting the labels of the images"
      ]
    },
    {
      "cell_type": "code",
      "execution_count": 3,
      "metadata": {
        "id": "vMXmX8g3dflK",
        "colab": {
          "base_uri": "https://localhost:8080/",
          "height": 206
        },
        "outputId": "cbfae740-da45-40f4-86dd-42ecee729405"
      },
      "outputs": [
        {
          "output_type": "execute_result",
          "data": {
            "text/plain": [
              "      filename                     label\n",
              "0  Image_1.jpg          SOUTHERN DOGFACE\n",
              "1  Image_2.jpg                    ADONIS\n",
              "2  Image_3.jpg            BROWN SIPROETA\n",
              "3  Image_4.jpg                   MONARCH\n",
              "4  Image_5.jpg  GREEN CELLED CATTLEHEART"
            ],
            "text/html": [
              "\n",
              "  <div id=\"df-f1bd280e-0e92-4cc8-a2c4-78f958d27058\">\n",
              "    <div class=\"colab-df-container\">\n",
              "      <div>\n",
              "<style scoped>\n",
              "    .dataframe tbody tr th:only-of-type {\n",
              "        vertical-align: middle;\n",
              "    }\n",
              "\n",
              "    .dataframe tbody tr th {\n",
              "        vertical-align: top;\n",
              "    }\n",
              "\n",
              "    .dataframe thead th {\n",
              "        text-align: right;\n",
              "    }\n",
              "</style>\n",
              "<table border=\"1\" class=\"dataframe\">\n",
              "  <thead>\n",
              "    <tr style=\"text-align: right;\">\n",
              "      <th></th>\n",
              "      <th>filename</th>\n",
              "      <th>label</th>\n",
              "    </tr>\n",
              "  </thead>\n",
              "  <tbody>\n",
              "    <tr>\n",
              "      <th>0</th>\n",
              "      <td>Image_1.jpg</td>\n",
              "      <td>SOUTHERN DOGFACE</td>\n",
              "    </tr>\n",
              "    <tr>\n",
              "      <th>1</th>\n",
              "      <td>Image_2.jpg</td>\n",
              "      <td>ADONIS</td>\n",
              "    </tr>\n",
              "    <tr>\n",
              "      <th>2</th>\n",
              "      <td>Image_3.jpg</td>\n",
              "      <td>BROWN SIPROETA</td>\n",
              "    </tr>\n",
              "    <tr>\n",
              "      <th>3</th>\n",
              "      <td>Image_4.jpg</td>\n",
              "      <td>MONARCH</td>\n",
              "    </tr>\n",
              "    <tr>\n",
              "      <th>4</th>\n",
              "      <td>Image_5.jpg</td>\n",
              "      <td>GREEN CELLED CATTLEHEART</td>\n",
              "    </tr>\n",
              "  </tbody>\n",
              "</table>\n",
              "</div>\n",
              "      <button class=\"colab-df-convert\" onclick=\"convertToInteractive('df-f1bd280e-0e92-4cc8-a2c4-78f958d27058')\"\n",
              "              title=\"Convert this dataframe to an interactive table.\"\n",
              "              style=\"display:none;\">\n",
              "        \n",
              "  <svg xmlns=\"http://www.w3.org/2000/svg\" height=\"24px\"viewBox=\"0 0 24 24\"\n",
              "       width=\"24px\">\n",
              "    <path d=\"M0 0h24v24H0V0z\" fill=\"none\"/>\n",
              "    <path d=\"M18.56 5.44l.94 2.06.94-2.06 2.06-.94-2.06-.94-.94-2.06-.94 2.06-2.06.94zm-11 1L8.5 8.5l.94-2.06 2.06-.94-2.06-.94L8.5 2.5l-.94 2.06-2.06.94zm10 10l.94 2.06.94-2.06 2.06-.94-2.06-.94-.94-2.06-.94 2.06-2.06.94z\"/><path d=\"M17.41 7.96l-1.37-1.37c-.4-.4-.92-.59-1.43-.59-.52 0-1.04.2-1.43.59L10.3 9.45l-7.72 7.72c-.78.78-.78 2.05 0 2.83L4 21.41c.39.39.9.59 1.41.59.51 0 1.02-.2 1.41-.59l7.78-7.78 2.81-2.81c.8-.78.8-2.07 0-2.86zM5.41 20L4 18.59l7.72-7.72 1.47 1.35L5.41 20z\"/>\n",
              "  </svg>\n",
              "      </button>\n",
              "      \n",
              "  <style>\n",
              "    .colab-df-container {\n",
              "      display:flex;\n",
              "      flex-wrap:wrap;\n",
              "      gap: 12px;\n",
              "    }\n",
              "\n",
              "    .colab-df-convert {\n",
              "      background-color: #E8F0FE;\n",
              "      border: none;\n",
              "      border-radius: 50%;\n",
              "      cursor: pointer;\n",
              "      display: none;\n",
              "      fill: #1967D2;\n",
              "      height: 32px;\n",
              "      padding: 0 0 0 0;\n",
              "      width: 32px;\n",
              "    }\n",
              "\n",
              "    .colab-df-convert:hover {\n",
              "      background-color: #E2EBFA;\n",
              "      box-shadow: 0px 1px 2px rgba(60, 64, 67, 0.3), 0px 1px 3px 1px rgba(60, 64, 67, 0.15);\n",
              "      fill: #174EA6;\n",
              "    }\n",
              "\n",
              "    [theme=dark] .colab-df-convert {\n",
              "      background-color: #3B4455;\n",
              "      fill: #D2E3FC;\n",
              "    }\n",
              "\n",
              "    [theme=dark] .colab-df-convert:hover {\n",
              "      background-color: #434B5C;\n",
              "      box-shadow: 0px 1px 3px 1px rgba(0, 0, 0, 0.15);\n",
              "      filter: drop-shadow(0px 1px 2px rgba(0, 0, 0, 0.3));\n",
              "      fill: #FFFFFF;\n",
              "    }\n",
              "  </style>\n",
              "\n",
              "      <script>\n",
              "        const buttonEl =\n",
              "          document.querySelector('#df-f1bd280e-0e92-4cc8-a2c4-78f958d27058 button.colab-df-convert');\n",
              "        buttonEl.style.display =\n",
              "          google.colab.kernel.accessAllowed ? 'block' : 'none';\n",
              "\n",
              "        async function convertToInteractive(key) {\n",
              "          const element = document.querySelector('#df-f1bd280e-0e92-4cc8-a2c4-78f958d27058');\n",
              "          const dataTable =\n",
              "            await google.colab.kernel.invokeFunction('convertToInteractive',\n",
              "                                                     [key], {});\n",
              "          if (!dataTable) return;\n",
              "\n",
              "          const docLinkHtml = 'Like what you see? Visit the ' +\n",
              "            '<a target=\"_blank\" href=https://colab.research.google.com/notebooks/data_table.ipynb>data table notebook</a>'\n",
              "            + ' to learn more about interactive tables.';\n",
              "          element.innerHTML = '';\n",
              "          dataTable['output_type'] = 'display_data';\n",
              "          await google.colab.output.renderOutput(dataTable, element);\n",
              "          const docLink = document.createElement('div');\n",
              "          docLink.innerHTML = docLinkHtml;\n",
              "          element.appendChild(docLink);\n",
              "        }\n",
              "      </script>\n",
              "    </div>\n",
              "  </div>\n",
              "  "
            ]
          },
          "metadata": {},
          "execution_count": 3
        }
      ],
      "source": [
        "labels = pd.read_csv(\"/content/drive/MyDrive/Butterfly Identification/Training_set.csv\")   # loading the labels\n",
        "labels.head()           # will display the first five rows in labels dataframe"
      ]
    },
    {
      "cell_type": "code",
      "execution_count": 4,
      "metadata": {
        "id": "FldofLw1fCxI",
        "colab": {
          "base_uri": "https://localhost:8080/",
          "height": 206
        },
        "outputId": "9229a8ce-4ad1-4e84-b232-2775a22c99f0"
      },
      "outputs": [
        {
          "output_type": "execute_result",
          "data": {
            "text/plain": [
              "            filename             label\n",
              "6494  Image_6495.jpg  MANGROVE SKIPPER\n",
              "6495  Image_6496.jpg    MOURNING CLOAK\n",
              "6496  Image_6497.jpg           APPOLLO\n",
              "6497  Image_6498.jpg   ELBOWED PIERROT\n",
              "6498  Image_6499.jpg             ATALA"
            ],
            "text/html": [
              "\n",
              "  <div id=\"df-c31a12c3-c941-443e-8604-4669f573ec45\">\n",
              "    <div class=\"colab-df-container\">\n",
              "      <div>\n",
              "<style scoped>\n",
              "    .dataframe tbody tr th:only-of-type {\n",
              "        vertical-align: middle;\n",
              "    }\n",
              "\n",
              "    .dataframe tbody tr th {\n",
              "        vertical-align: top;\n",
              "    }\n",
              "\n",
              "    .dataframe thead th {\n",
              "        text-align: right;\n",
              "    }\n",
              "</style>\n",
              "<table border=\"1\" class=\"dataframe\">\n",
              "  <thead>\n",
              "    <tr style=\"text-align: right;\">\n",
              "      <th></th>\n",
              "      <th>filename</th>\n",
              "      <th>label</th>\n",
              "    </tr>\n",
              "  </thead>\n",
              "  <tbody>\n",
              "    <tr>\n",
              "      <th>6494</th>\n",
              "      <td>Image_6495.jpg</td>\n",
              "      <td>MANGROVE SKIPPER</td>\n",
              "    </tr>\n",
              "    <tr>\n",
              "      <th>6495</th>\n",
              "      <td>Image_6496.jpg</td>\n",
              "      <td>MOURNING CLOAK</td>\n",
              "    </tr>\n",
              "    <tr>\n",
              "      <th>6496</th>\n",
              "      <td>Image_6497.jpg</td>\n",
              "      <td>APPOLLO</td>\n",
              "    </tr>\n",
              "    <tr>\n",
              "      <th>6497</th>\n",
              "      <td>Image_6498.jpg</td>\n",
              "      <td>ELBOWED PIERROT</td>\n",
              "    </tr>\n",
              "    <tr>\n",
              "      <th>6498</th>\n",
              "      <td>Image_6499.jpg</td>\n",
              "      <td>ATALA</td>\n",
              "    </tr>\n",
              "  </tbody>\n",
              "</table>\n",
              "</div>\n",
              "      <button class=\"colab-df-convert\" onclick=\"convertToInteractive('df-c31a12c3-c941-443e-8604-4669f573ec45')\"\n",
              "              title=\"Convert this dataframe to an interactive table.\"\n",
              "              style=\"display:none;\">\n",
              "        \n",
              "  <svg xmlns=\"http://www.w3.org/2000/svg\" height=\"24px\"viewBox=\"0 0 24 24\"\n",
              "       width=\"24px\">\n",
              "    <path d=\"M0 0h24v24H0V0z\" fill=\"none\"/>\n",
              "    <path d=\"M18.56 5.44l.94 2.06.94-2.06 2.06-.94-2.06-.94-.94-2.06-.94 2.06-2.06.94zm-11 1L8.5 8.5l.94-2.06 2.06-.94-2.06-.94L8.5 2.5l-.94 2.06-2.06.94zm10 10l.94 2.06.94-2.06 2.06-.94-2.06-.94-.94-2.06-.94 2.06-2.06.94z\"/><path d=\"M17.41 7.96l-1.37-1.37c-.4-.4-.92-.59-1.43-.59-.52 0-1.04.2-1.43.59L10.3 9.45l-7.72 7.72c-.78.78-.78 2.05 0 2.83L4 21.41c.39.39.9.59 1.41.59.51 0 1.02-.2 1.41-.59l7.78-7.78 2.81-2.81c.8-.78.8-2.07 0-2.86zM5.41 20L4 18.59l7.72-7.72 1.47 1.35L5.41 20z\"/>\n",
              "  </svg>\n",
              "      </button>\n",
              "      \n",
              "  <style>\n",
              "    .colab-df-container {\n",
              "      display:flex;\n",
              "      flex-wrap:wrap;\n",
              "      gap: 12px;\n",
              "    }\n",
              "\n",
              "    .colab-df-convert {\n",
              "      background-color: #E8F0FE;\n",
              "      border: none;\n",
              "      border-radius: 50%;\n",
              "      cursor: pointer;\n",
              "      display: none;\n",
              "      fill: #1967D2;\n",
              "      height: 32px;\n",
              "      padding: 0 0 0 0;\n",
              "      width: 32px;\n",
              "    }\n",
              "\n",
              "    .colab-df-convert:hover {\n",
              "      background-color: #E2EBFA;\n",
              "      box-shadow: 0px 1px 2px rgba(60, 64, 67, 0.3), 0px 1px 3px 1px rgba(60, 64, 67, 0.15);\n",
              "      fill: #174EA6;\n",
              "    }\n",
              "\n",
              "    [theme=dark] .colab-df-convert {\n",
              "      background-color: #3B4455;\n",
              "      fill: #D2E3FC;\n",
              "    }\n",
              "\n",
              "    [theme=dark] .colab-df-convert:hover {\n",
              "      background-color: #434B5C;\n",
              "      box-shadow: 0px 1px 3px 1px rgba(0, 0, 0, 0.15);\n",
              "      filter: drop-shadow(0px 1px 2px rgba(0, 0, 0, 0.3));\n",
              "      fill: #FFFFFF;\n",
              "    }\n",
              "  </style>\n",
              "\n",
              "      <script>\n",
              "        const buttonEl =\n",
              "          document.querySelector('#df-c31a12c3-c941-443e-8604-4669f573ec45 button.colab-df-convert');\n",
              "        buttonEl.style.display =\n",
              "          google.colab.kernel.accessAllowed ? 'block' : 'none';\n",
              "\n",
              "        async function convertToInteractive(key) {\n",
              "          const element = document.querySelector('#df-c31a12c3-c941-443e-8604-4669f573ec45');\n",
              "          const dataTable =\n",
              "            await google.colab.kernel.invokeFunction('convertToInteractive',\n",
              "                                                     [key], {});\n",
              "          if (!dataTable) return;\n",
              "\n",
              "          const docLinkHtml = 'Like what you see? Visit the ' +\n",
              "            '<a target=\"_blank\" href=https://colab.research.google.com/notebooks/data_table.ipynb>data table notebook</a>'\n",
              "            + ' to learn more about interactive tables.';\n",
              "          element.innerHTML = '';\n",
              "          dataTable['output_type'] = 'display_data';\n",
              "          await google.colab.output.renderOutput(dataTable, element);\n",
              "          const docLink = document.createElement('div');\n",
              "          docLink.innerHTML = docLinkHtml;\n",
              "          element.appendChild(docLink);\n",
              "        }\n",
              "      </script>\n",
              "    </div>\n",
              "  </div>\n",
              "  "
            ]
          },
          "metadata": {},
          "execution_count": 4
        }
      ],
      "source": [
        "labels.tail()            # will display the last five rows in labels dataframe"
      ]
    },
    {
      "cell_type": "markdown",
      "metadata": {
        "id": "S-bMgFBIfUdP"
      },
      "source": [
        "#### Getting images file path"
      ]
    },
    {
      "cell_type": "code",
      "execution_count": 5,
      "metadata": {
        "id": "xdsON8gZfKIV"
      },
      "outputs": [],
      "source": [
        "file_paths = [[fname, '/content/drive/MyDrive/Butterfly Identification/train/' + fname] for fname in labels['filename']]"
      ]
    },
    {
      "cell_type": "markdown",
      "metadata": {
        "id": "q9Noguhprcf2"
      },
      "source": [
        "#### Confirming if no. of labels is equal to no. of images"
      ]
    },
    {
      "cell_type": "code",
      "execution_count": 6,
      "metadata": {
        "id": "N4YrF-s1rWla",
        "colab": {
          "base_uri": "https://localhost:8080/"
        },
        "outputId": "a0134e03-75f3-40b9-aec1-d28a71f9a465"
      },
      "outputs": [
        {
          "output_type": "stream",
          "name": "stdout",
          "text": [
            "Number of labels i.e.  6499 matches the number of filenames i.e.  6499\n"
          ]
        }
      ],
      "source": [
        "# Confirm if number of images is same as number of labels given\n",
        "if len(labels) == len(file_paths):\n",
        "    print('Number of labels i.e. ', len(labels), 'matches the number of filenames i.e. ', len(file_paths))\n",
        "else:\n",
        "    print('Number of labels does not match the number of filenames')"
      ]
    },
    {
      "cell_type": "markdown",
      "metadata": {
        "id": "Wx2t_cLSr3Jm"
      },
      "source": [
        "#### Converting the file_paths to dataframe"
      ]
    },
    {
      "cell_type": "code",
      "execution_count": 7,
      "metadata": {
        "id": "PE8c0cgkrpOO",
        "colab": {
          "base_uri": "https://localhost:8080/",
          "height": 206
        },
        "outputId": "81743a7b-352e-4d69-9dd6-631336334ad0"
      },
      "outputs": [
        {
          "output_type": "execute_result",
          "data": {
            "text/plain": [
              "      filename                                          filepaths\n",
              "0  Image_1.jpg  /content/drive/MyDrive/Butterfly Identificatio...\n",
              "1  Image_2.jpg  /content/drive/MyDrive/Butterfly Identificatio...\n",
              "2  Image_3.jpg  /content/drive/MyDrive/Butterfly Identificatio...\n",
              "3  Image_4.jpg  /content/drive/MyDrive/Butterfly Identificatio...\n",
              "4  Image_5.jpg  /content/drive/MyDrive/Butterfly Identificatio..."
            ],
            "text/html": [
              "\n",
              "  <div id=\"df-02d3ae61-1b00-4072-8ebc-35280ac3a6dd\">\n",
              "    <div class=\"colab-df-container\">\n",
              "      <div>\n",
              "<style scoped>\n",
              "    .dataframe tbody tr th:only-of-type {\n",
              "        vertical-align: middle;\n",
              "    }\n",
              "\n",
              "    .dataframe tbody tr th {\n",
              "        vertical-align: top;\n",
              "    }\n",
              "\n",
              "    .dataframe thead th {\n",
              "        text-align: right;\n",
              "    }\n",
              "</style>\n",
              "<table border=\"1\" class=\"dataframe\">\n",
              "  <thead>\n",
              "    <tr style=\"text-align: right;\">\n",
              "      <th></th>\n",
              "      <th>filename</th>\n",
              "      <th>filepaths</th>\n",
              "    </tr>\n",
              "  </thead>\n",
              "  <tbody>\n",
              "    <tr>\n",
              "      <th>0</th>\n",
              "      <td>Image_1.jpg</td>\n",
              "      <td>/content/drive/MyDrive/Butterfly Identificatio...</td>\n",
              "    </tr>\n",
              "    <tr>\n",
              "      <th>1</th>\n",
              "      <td>Image_2.jpg</td>\n",
              "      <td>/content/drive/MyDrive/Butterfly Identificatio...</td>\n",
              "    </tr>\n",
              "    <tr>\n",
              "      <th>2</th>\n",
              "      <td>Image_3.jpg</td>\n",
              "      <td>/content/drive/MyDrive/Butterfly Identificatio...</td>\n",
              "    </tr>\n",
              "    <tr>\n",
              "      <th>3</th>\n",
              "      <td>Image_4.jpg</td>\n",
              "      <td>/content/drive/MyDrive/Butterfly Identificatio...</td>\n",
              "    </tr>\n",
              "    <tr>\n",
              "      <th>4</th>\n",
              "      <td>Image_5.jpg</td>\n",
              "      <td>/content/drive/MyDrive/Butterfly Identificatio...</td>\n",
              "    </tr>\n",
              "  </tbody>\n",
              "</table>\n",
              "</div>\n",
              "      <button class=\"colab-df-convert\" onclick=\"convertToInteractive('df-02d3ae61-1b00-4072-8ebc-35280ac3a6dd')\"\n",
              "              title=\"Convert this dataframe to an interactive table.\"\n",
              "              style=\"display:none;\">\n",
              "        \n",
              "  <svg xmlns=\"http://www.w3.org/2000/svg\" height=\"24px\"viewBox=\"0 0 24 24\"\n",
              "       width=\"24px\">\n",
              "    <path d=\"M0 0h24v24H0V0z\" fill=\"none\"/>\n",
              "    <path d=\"M18.56 5.44l.94 2.06.94-2.06 2.06-.94-2.06-.94-.94-2.06-.94 2.06-2.06.94zm-11 1L8.5 8.5l.94-2.06 2.06-.94-2.06-.94L8.5 2.5l-.94 2.06-2.06.94zm10 10l.94 2.06.94-2.06 2.06-.94-2.06-.94-.94-2.06-.94 2.06-2.06.94z\"/><path d=\"M17.41 7.96l-1.37-1.37c-.4-.4-.92-.59-1.43-.59-.52 0-1.04.2-1.43.59L10.3 9.45l-7.72 7.72c-.78.78-.78 2.05 0 2.83L4 21.41c.39.39.9.59 1.41.59.51 0 1.02-.2 1.41-.59l7.78-7.78 2.81-2.81c.8-.78.8-2.07 0-2.86zM5.41 20L4 18.59l7.72-7.72 1.47 1.35L5.41 20z\"/>\n",
              "  </svg>\n",
              "      </button>\n",
              "      \n",
              "  <style>\n",
              "    .colab-df-container {\n",
              "      display:flex;\n",
              "      flex-wrap:wrap;\n",
              "      gap: 12px;\n",
              "    }\n",
              "\n",
              "    .colab-df-convert {\n",
              "      background-color: #E8F0FE;\n",
              "      border: none;\n",
              "      border-radius: 50%;\n",
              "      cursor: pointer;\n",
              "      display: none;\n",
              "      fill: #1967D2;\n",
              "      height: 32px;\n",
              "      padding: 0 0 0 0;\n",
              "      width: 32px;\n",
              "    }\n",
              "\n",
              "    .colab-df-convert:hover {\n",
              "      background-color: #E2EBFA;\n",
              "      box-shadow: 0px 1px 2px rgba(60, 64, 67, 0.3), 0px 1px 3px 1px rgba(60, 64, 67, 0.15);\n",
              "      fill: #174EA6;\n",
              "    }\n",
              "\n",
              "    [theme=dark] .colab-df-convert {\n",
              "      background-color: #3B4455;\n",
              "      fill: #D2E3FC;\n",
              "    }\n",
              "\n",
              "    [theme=dark] .colab-df-convert:hover {\n",
              "      background-color: #434B5C;\n",
              "      box-shadow: 0px 1px 3px 1px rgba(0, 0, 0, 0.15);\n",
              "      filter: drop-shadow(0px 1px 2px rgba(0, 0, 0, 0.3));\n",
              "      fill: #FFFFFF;\n",
              "    }\n",
              "  </style>\n",
              "\n",
              "      <script>\n",
              "        const buttonEl =\n",
              "          document.querySelector('#df-02d3ae61-1b00-4072-8ebc-35280ac3a6dd button.colab-df-convert');\n",
              "        buttonEl.style.display =\n",
              "          google.colab.kernel.accessAllowed ? 'block' : 'none';\n",
              "\n",
              "        async function convertToInteractive(key) {\n",
              "          const element = document.querySelector('#df-02d3ae61-1b00-4072-8ebc-35280ac3a6dd');\n",
              "          const dataTable =\n",
              "            await google.colab.kernel.invokeFunction('convertToInteractive',\n",
              "                                                     [key], {});\n",
              "          if (!dataTable) return;\n",
              "\n",
              "          const docLinkHtml = 'Like what you see? Visit the ' +\n",
              "            '<a target=\"_blank\" href=https://colab.research.google.com/notebooks/data_table.ipynb>data table notebook</a>'\n",
              "            + ' to learn more about interactive tables.';\n",
              "          element.innerHTML = '';\n",
              "          dataTable['output_type'] = 'display_data';\n",
              "          await google.colab.output.renderOutput(dataTable, element);\n",
              "          const docLink = document.createElement('div');\n",
              "          docLink.innerHTML = docLinkHtml;\n",
              "          element.appendChild(docLink);\n",
              "        }\n",
              "      </script>\n",
              "    </div>\n",
              "  </div>\n",
              "  "
            ]
          },
          "metadata": {},
          "execution_count": 7
        }
      ],
      "source": [
        "images = pd.DataFrame(file_paths, columns=['filename', 'filepaths'])\n",
        "images.head()"
      ]
    },
    {
      "cell_type": "markdown",
      "metadata": {
        "id": "nSDPZsA2sM5n"
      },
      "source": [
        "#### Combining the labels with the images"
      ]
    },
    {
      "cell_type": "code",
      "execution_count": 8,
      "metadata": {
        "id": "y8CNnxxzsG56",
        "colab": {
          "base_uri": "https://localhost:8080/",
          "height": 206
        },
        "outputId": "0071af08-d65b-45fb-acf3-63d2b78cea32"
      },
      "outputs": [
        {
          "output_type": "execute_result",
          "data": {
            "text/plain": [
              "      filename                                          filepaths  \\\n",
              "0  Image_1.jpg  /content/drive/MyDrive/Butterfly Identificatio...   \n",
              "1  Image_2.jpg  /content/drive/MyDrive/Butterfly Identificatio...   \n",
              "2  Image_3.jpg  /content/drive/MyDrive/Butterfly Identificatio...   \n",
              "3  Image_4.jpg  /content/drive/MyDrive/Butterfly Identificatio...   \n",
              "4  Image_5.jpg  /content/drive/MyDrive/Butterfly Identificatio...   \n",
              "\n",
              "                      label  \n",
              "0          SOUTHERN DOGFACE  \n",
              "1                    ADONIS  \n",
              "2            BROWN SIPROETA  \n",
              "3                   MONARCH  \n",
              "4  GREEN CELLED CATTLEHEART  "
            ],
            "text/html": [
              "\n",
              "  <div id=\"df-0045b4f4-5d8a-4082-8e1d-63d5040c033c\">\n",
              "    <div class=\"colab-df-container\">\n",
              "      <div>\n",
              "<style scoped>\n",
              "    .dataframe tbody tr th:only-of-type {\n",
              "        vertical-align: middle;\n",
              "    }\n",
              "\n",
              "    .dataframe tbody tr th {\n",
              "        vertical-align: top;\n",
              "    }\n",
              "\n",
              "    .dataframe thead th {\n",
              "        text-align: right;\n",
              "    }\n",
              "</style>\n",
              "<table border=\"1\" class=\"dataframe\">\n",
              "  <thead>\n",
              "    <tr style=\"text-align: right;\">\n",
              "      <th></th>\n",
              "      <th>filename</th>\n",
              "      <th>filepaths</th>\n",
              "      <th>label</th>\n",
              "    </tr>\n",
              "  </thead>\n",
              "  <tbody>\n",
              "    <tr>\n",
              "      <th>0</th>\n",
              "      <td>Image_1.jpg</td>\n",
              "      <td>/content/drive/MyDrive/Butterfly Identificatio...</td>\n",
              "      <td>SOUTHERN DOGFACE</td>\n",
              "    </tr>\n",
              "    <tr>\n",
              "      <th>1</th>\n",
              "      <td>Image_2.jpg</td>\n",
              "      <td>/content/drive/MyDrive/Butterfly Identificatio...</td>\n",
              "      <td>ADONIS</td>\n",
              "    </tr>\n",
              "    <tr>\n",
              "      <th>2</th>\n",
              "      <td>Image_3.jpg</td>\n",
              "      <td>/content/drive/MyDrive/Butterfly Identificatio...</td>\n",
              "      <td>BROWN SIPROETA</td>\n",
              "    </tr>\n",
              "    <tr>\n",
              "      <th>3</th>\n",
              "      <td>Image_4.jpg</td>\n",
              "      <td>/content/drive/MyDrive/Butterfly Identificatio...</td>\n",
              "      <td>MONARCH</td>\n",
              "    </tr>\n",
              "    <tr>\n",
              "      <th>4</th>\n",
              "      <td>Image_5.jpg</td>\n",
              "      <td>/content/drive/MyDrive/Butterfly Identificatio...</td>\n",
              "      <td>GREEN CELLED CATTLEHEART</td>\n",
              "    </tr>\n",
              "  </tbody>\n",
              "</table>\n",
              "</div>\n",
              "      <button class=\"colab-df-convert\" onclick=\"convertToInteractive('df-0045b4f4-5d8a-4082-8e1d-63d5040c033c')\"\n",
              "              title=\"Convert this dataframe to an interactive table.\"\n",
              "              style=\"display:none;\">\n",
              "        \n",
              "  <svg xmlns=\"http://www.w3.org/2000/svg\" height=\"24px\"viewBox=\"0 0 24 24\"\n",
              "       width=\"24px\">\n",
              "    <path d=\"M0 0h24v24H0V0z\" fill=\"none\"/>\n",
              "    <path d=\"M18.56 5.44l.94 2.06.94-2.06 2.06-.94-2.06-.94-.94-2.06-.94 2.06-2.06.94zm-11 1L8.5 8.5l.94-2.06 2.06-.94-2.06-.94L8.5 2.5l-.94 2.06-2.06.94zm10 10l.94 2.06.94-2.06 2.06-.94-2.06-.94-.94-2.06-.94 2.06-2.06.94z\"/><path d=\"M17.41 7.96l-1.37-1.37c-.4-.4-.92-.59-1.43-.59-.52 0-1.04.2-1.43.59L10.3 9.45l-7.72 7.72c-.78.78-.78 2.05 0 2.83L4 21.41c.39.39.9.59 1.41.59.51 0 1.02-.2 1.41-.59l7.78-7.78 2.81-2.81c.8-.78.8-2.07 0-2.86zM5.41 20L4 18.59l7.72-7.72 1.47 1.35L5.41 20z\"/>\n",
              "  </svg>\n",
              "      </button>\n",
              "      \n",
              "  <style>\n",
              "    .colab-df-container {\n",
              "      display:flex;\n",
              "      flex-wrap:wrap;\n",
              "      gap: 12px;\n",
              "    }\n",
              "\n",
              "    .colab-df-convert {\n",
              "      background-color: #E8F0FE;\n",
              "      border: none;\n",
              "      border-radius: 50%;\n",
              "      cursor: pointer;\n",
              "      display: none;\n",
              "      fill: #1967D2;\n",
              "      height: 32px;\n",
              "      padding: 0 0 0 0;\n",
              "      width: 32px;\n",
              "    }\n",
              "\n",
              "    .colab-df-convert:hover {\n",
              "      background-color: #E2EBFA;\n",
              "      box-shadow: 0px 1px 2px rgba(60, 64, 67, 0.3), 0px 1px 3px 1px rgba(60, 64, 67, 0.15);\n",
              "      fill: #174EA6;\n",
              "    }\n",
              "\n",
              "    [theme=dark] .colab-df-convert {\n",
              "      background-color: #3B4455;\n",
              "      fill: #D2E3FC;\n",
              "    }\n",
              "\n",
              "    [theme=dark] .colab-df-convert:hover {\n",
              "      background-color: #434B5C;\n",
              "      box-shadow: 0px 1px 3px 1px rgba(0, 0, 0, 0.15);\n",
              "      filter: drop-shadow(0px 1px 2px rgba(0, 0, 0, 0.3));\n",
              "      fill: #FFFFFF;\n",
              "    }\n",
              "  </style>\n",
              "\n",
              "      <script>\n",
              "        const buttonEl =\n",
              "          document.querySelector('#df-0045b4f4-5d8a-4082-8e1d-63d5040c033c button.colab-df-convert');\n",
              "        buttonEl.style.display =\n",
              "          google.colab.kernel.accessAllowed ? 'block' : 'none';\n",
              "\n",
              "        async function convertToInteractive(key) {\n",
              "          const element = document.querySelector('#df-0045b4f4-5d8a-4082-8e1d-63d5040c033c');\n",
              "          const dataTable =\n",
              "            await google.colab.kernel.invokeFunction('convertToInteractive',\n",
              "                                                     [key], {});\n",
              "          if (!dataTable) return;\n",
              "\n",
              "          const docLinkHtml = 'Like what you see? Visit the ' +\n",
              "            '<a target=\"_blank\" href=https://colab.research.google.com/notebooks/data_table.ipynb>data table notebook</a>'\n",
              "            + ' to learn more about interactive tables.';\n",
              "          element.innerHTML = '';\n",
              "          dataTable['output_type'] = 'display_data';\n",
              "          await google.colab.output.renderOutput(dataTable, element);\n",
              "          const docLink = document.createElement('div');\n",
              "          docLink.innerHTML = docLinkHtml;\n",
              "          element.appendChild(docLink);\n",
              "        }\n",
              "      </script>\n",
              "    </div>\n",
              "  </div>\n",
              "  "
            ]
          },
          "metadata": {},
          "execution_count": 8
        }
      ],
      "source": [
        "train_data = pd.merge(images, labels, how = 'inner', on = 'filename')\n",
        "train_data.head()       "
      ]
    },
    {
      "cell_type": "code",
      "execution_count": 9,
      "metadata": {
        "id": "TPeQ2PHY4OsM"
      },
      "outputs": [],
      "source": [
        "from sklearn.preprocessing import LabelEncoder\n",
        "le = LabelEncoder()\n",
        "train_data['label'] = le.fit_transform(train_data['label'])"
      ]
    },
    {
      "cell_type": "markdown",
      "metadata": {
        "id": "znobaA5KsXgp"
      },
      "source": [
        "The 'train_data' dataframe contains all the image id, their locations and their respective labels. Now the training data is ready."
      ]
    },
    {
      "cell_type": "markdown",
      "metadata": {
        "id": "BvIxaRD6sn3m"
      },
      "source": [
        "## Data Pre-processing\n",
        "It is necessary to bring all the images in the same shape and size, also convert them to their pixel values because all machine learning or deep learning models accepts only the numerical data. Also we need to convert all the labels from categorical to numerical values."
      ]
    },
    {
      "cell_type": "code",
      "execution_count": 10,
      "metadata": {
        "id": "vxPiZCLpsWrd"
      },
      "outputs": [],
      "source": [
        "data = []     # initialize an empty numpy array\n",
        "image_size = 100      # image size taken is 100 here. one can take other size too\n",
        "for i in range(len(train_data)):\n",
        "  \n",
        "  img_array = cv2.imread(train_data['filepaths'][i], cv2.IMREAD_GRAYSCALE)   # converting the image to gray scale\n",
        "\n",
        "  new_img_array = cv2.resize(img_array, (image_size, image_size))      # resizing the image array\n",
        "  data.append([new_img_array, train_data['label'][i]])"
      ]
    },
    {
      "cell_type": "code",
      "execution_count": 11,
      "metadata": {
        "id": "LOpf3gvXwbT5",
        "colab": {
          "base_uri": "https://localhost:8080/"
        },
        "outputId": "9d5709b0-d62e-4d14-d08b-f29e881adc0e"
      },
      "outputs": [
        {
          "output_type": "execute_result",
          "data": {
            "text/plain": [
              "[array([[ 65,  67,  69, ...,  85,  87,  88],\n",
              "        [ 65,  66,  67, ...,  88,  87,  88],\n",
              "        [ 60,  61,  65, ...,  88,  88,  90],\n",
              "        ...,\n",
              "        [111, 110, 111, ..., 114, 114, 117],\n",
              "        [108, 110, 112, ..., 112, 113, 118],\n",
              "        [109, 108, 111, ..., 111, 113, 121]], dtype=uint8), 14]"
            ]
          },
          "metadata": {},
          "execution_count": 11
        }
      ],
      "source": [
        "4# image pixels of a image\n",
        "data[5]"
      ]
    },
    {
      "cell_type": "markdown",
      "metadata": {
        "id": "T6A7CNrU196Q"
      },
      "source": [
        "#### Shuffle the data"
      ]
    },
    {
      "cell_type": "code",
      "execution_count": 12,
      "metadata": {
        "id": "XDs6fWy92qEq"
      },
      "outputs": [],
      "source": [
        "np.random.shuffle(data)"
      ]
    },
    {
      "cell_type": "markdown",
      "metadata": {
        "id": "YFMN0ZkA5H-F"
      },
      "source": [
        "#### Separating the images and labels\n"
      ]
    },
    {
      "cell_type": "code",
      "execution_count": 13,
      "metadata": {
        "id": "2KoW9Pfq5NiB"
      },
      "outputs": [],
      "source": [
        "x = []\n",
        "y = []\n",
        "for image in data:\n",
        "  x.append(image[0])\n",
        "  y.append(image[1])\n",
        "\n",
        "# converting x & y to numpy array as they are list\n",
        "x = np.array(x)\n",
        "y = np.array(y)"
      ]
    },
    {
      "cell_type": "code",
      "execution_count": 14,
      "metadata": {
        "id": "t39WpMhaepOg",
        "colab": {
          "base_uri": "https://localhost:8080/"
        },
        "outputId": "95eeda9e-6600-46f1-b8fc-205e18ab6917"
      },
      "outputs": [
        {
          "output_type": "execute_result",
          "data": {
            "text/plain": [
              "(array([ 0,  1,  2,  3,  4,  5,  6,  7,  8,  9, 10, 11, 12, 13, 14, 15, 16,\n",
              "        17, 18, 19, 20, 21, 22, 23, 24, 25, 26, 27, 28, 29, 30, 31, 32, 33,\n",
              "        34, 35, 36, 37, 38, 39, 40, 41, 42, 43, 44, 45, 46, 47, 48, 49, 50,\n",
              "        51, 52, 53, 54, 55, 56, 57, 58, 59, 60, 61, 62, 63, 64, 65, 66, 67,\n",
              "        68, 69, 70, 71, 72, 73, 74]),\n",
              " array([ 88,  75,  74,  85,  90, 100,  97,  83,  81,  85,  75,  86,  99,\n",
              "         90,  83,  95,  85,  93,  87,  92,  87,  90,  94,  97,  72,  94,\n",
              "         93,  92,  95,  82,  73,  78,  94,  88,  86,  81,  95,  81,  81,\n",
              "         73,  87,  86,  76,  96,  90, 131,  87,  96,  76,  78,  90,  84,\n",
              "         86,  84,  85,  79,  92,  77,  82,  96,  89,  86,  97,  83, 107,\n",
              "         90,  87,  87,  83,  76,  84,  81,  71,  75,  76]))"
            ]
          },
          "metadata": {},
          "execution_count": 14
        }
      ],
      "source": [
        "np.unique(y, return_counts=True)"
      ]
    },
    {
      "cell_type": "markdown",
      "metadata": {
        "id": "OeuKjzVg7NSb"
      },
      "source": [
        "#### Splitting the data into Train and Validation Set\n",
        "We want to check the performance of the model that we built. For this purpose, we always split (both independent and dependent data) the given data into training set which will be used to train the model, and test set which will be used to check how accurately the model is predicting outcomes.\n",
        "\n",
        "For this purpose we have a class called 'train_test_split' in the 'sklearn.model_selection' module."
      ]
    },
    {
      "cell_type": "code",
      "execution_count": 15,
      "metadata": {
        "id": "fw_1YGxnaxVG"
      },
      "outputs": [],
      "source": [
        "x =  x.reshape(-1, 100, 100, 1)"
      ]
    },
    {
      "cell_type": "code",
      "execution_count": 16,
      "metadata": {
        "id": "mBtGJmZj55SE"
      },
      "outputs": [],
      "source": [
        "# split the data\n",
        "X_train, X_val, y_train, y_val = train_test_split(x,y,test_size=0.3, random_state = 42)"
      ]
    },
    {
      "cell_type": "markdown",
      "metadata": {
        "id": "cDCZ53yE7340"
      },
      "source": [
        "## Building Model\n",
        "Now we are finally ready, and we can train the model.\n",
        "\n",
        "There are many machine learning or deep learning models like Random Forest, Decision Tree, Multi-Layer Perceptron (MLP), Convolution Neural Network (CNN), etc. to say you some.\n",
        "\n",
        "\n",
        "Then we would feed the model both with the data (X_train) and the answers for that data (y_train)"
      ]
    },
    {
      "cell_type": "code",
      "execution_count": 20,
      "metadata": {
        "id": "kOKWYA6Ua4Uh"
      },
      "outputs": [],
      "source": [
        "cnn = tf.keras.models.Sequential([\n",
        "    tf.keras.layers.Conv2D(32, (3, 3), activation='relu', input_shape=(100, 100, 1)),\n",
        "    tf.keras.layers.MaxPooling2D((2, 2)),\n",
        "   # tf.keras.layers.Dropout((0.25)),\n",
        "    \n",
        "    tf.keras.layers.Conv2D(64, (3, 3), activation='relu'),\n",
        "    tf.keras.layers.MaxPooling2D((2, 2)),\n",
        "   #tf.keras.layers.Dropout((0.25)),\n",
        "\n",
        "    tf.keras.layers.Conv2D(128, (3, 3), activation='relu'),\n",
        "    tf.keras.layers.MaxPooling2D((2, 2)),\n",
        "    #tf.keras.layers.Dropout((0.25)),\n",
        "    \n",
        "    tf.keras.layers.Flatten(),\n",
        "    tf.keras.layers.Dense(64, activation='relu'),\n",
        "    tf.keras.layers.Dense(75, activation='softmax')\n",
        "])"
      ]
    },
    {
      "cell_type": "code",
      "execution_count": 21,
      "metadata": {
        "id": "ZQWMyQLva53K"
      },
      "outputs": [],
      "source": [
        "cnn.compile(optimizer='adam',\n",
        "              loss='sparse_categorical_crossentropy',\n",
        "              metrics=['accuracy'])"
      ]
    },
    {
      "cell_type": "code",
      "execution_count": 22,
      "metadata": {
        "id": "_jkmDd6PbAJH",
        "colab": {
          "base_uri": "https://localhost:8080/"
        },
        "outputId": "aa854177-2e92-43e4-9156-3e77ec2f1da2"
      },
      "outputs": [
        {
          "output_type": "stream",
          "name": "stdout",
          "text": [
            "Epoch 1/35\n",
            "72/72 [==============================] - 78s 1s/step - loss: 7.7406 - accuracy: 0.0299 - val_loss: 4.1255 - val_accuracy: 0.0626\n",
            "Epoch 2/35\n",
            "72/72 [==============================] - 76s 1s/step - loss: 3.6804 - accuracy: 0.1444 - val_loss: 3.6513 - val_accuracy: 0.1626\n",
            "Epoch 3/35\n",
            "72/72 [==============================] - 76s 1s/step - loss: 2.8826 - accuracy: 0.2963 - val_loss: 3.5043 - val_accuracy: 0.2000\n",
            "Epoch 4/35\n",
            "72/72 [==============================] - 76s 1s/step - loss: 2.0895 - accuracy: 0.4564 - val_loss: 3.3234 - val_accuracy: 0.2610\n",
            "Epoch 5/35\n",
            "72/72 [==============================] - 76s 1s/step - loss: 1.4625 - accuracy: 0.6058 - val_loss: 3.5868 - val_accuracy: 0.2779\n",
            "Epoch 6/35\n",
            "72/72 [==============================] - 76s 1s/step - loss: 0.9727 - accuracy: 0.7311 - val_loss: 4.5085 - val_accuracy: 0.2713\n",
            "Epoch 7/35\n",
            "72/72 [==============================] - 76s 1s/step - loss: 0.6887 - accuracy: 0.8048 - val_loss: 4.7543 - val_accuracy: 0.2723\n",
            "Epoch 8/35\n",
            "72/72 [==============================] - 76s 1s/step - loss: 0.5519 - accuracy: 0.8424 - val_loss: 5.2463 - val_accuracy: 0.2990\n",
            "Epoch 9/35\n",
            "72/72 [==============================] - 76s 1s/step - loss: 0.3071 - accuracy: 0.9107 - val_loss: 6.1484 - val_accuracy: 0.2862\n",
            "Epoch 10/35\n",
            "72/72 [==============================] - 76s 1s/step - loss: 0.2477 - accuracy: 0.9327 - val_loss: 6.9322 - val_accuracy: 0.3005\n",
            "Epoch 11/35\n",
            "72/72 [==============================] - 76s 1s/step - loss: 0.1912 - accuracy: 0.9488 - val_loss: 6.8104 - val_accuracy: 0.3077\n",
            "Epoch 12/35\n",
            "72/72 [==============================] - 76s 1s/step - loss: 0.2095 - accuracy: 0.9437 - val_loss: 7.6641 - val_accuracy: 0.2887\n",
            "Epoch 13/35\n",
            "72/72 [==============================] - 76s 1s/step - loss: 0.2553 - accuracy: 0.9360 - val_loss: 7.6460 - val_accuracy: 0.3015\n",
            "Epoch 14/35\n",
            "72/72 [==============================] - 76s 1s/step - loss: 0.1549 - accuracy: 0.9604 - val_loss: 7.9630 - val_accuracy: 0.2974\n",
            "Epoch 15/35\n",
            "72/72 [==============================] - 76s 1s/step - loss: 0.0767 - accuracy: 0.9776 - val_loss: 10.9377 - val_accuracy: 0.2738\n",
            "Epoch 16/35\n",
            "72/72 [==============================] - 76s 1s/step - loss: 0.2766 - accuracy: 0.9268 - val_loss: 8.0732 - val_accuracy: 0.3031\n",
            "Epoch 17/35\n",
            "72/72 [==============================] - 76s 1s/step - loss: 0.2637 - accuracy: 0.9259 - val_loss: 8.0902 - val_accuracy: 0.3010\n",
            "Epoch 18/35\n",
            "72/72 [==============================] - 76s 1s/step - loss: 0.1418 - accuracy: 0.9620 - val_loss: 8.2491 - val_accuracy: 0.3092\n",
            "Epoch 19/35\n",
            "72/72 [==============================] - 76s 1s/step - loss: 0.0388 - accuracy: 0.9914 - val_loss: 9.1585 - val_accuracy: 0.3205\n",
            "Epoch 20/35\n",
            "72/72 [==============================] - 76s 1s/step - loss: 0.0124 - accuracy: 0.9982 - val_loss: 9.7715 - val_accuracy: 0.3262\n",
            "Epoch 21/35\n",
            "72/72 [==============================] - 76s 1s/step - loss: 0.0248 - accuracy: 0.9945 - val_loss: 10.0791 - val_accuracy: 0.3241\n",
            "Epoch 22/35\n",
            "72/72 [==============================] - 76s 1s/step - loss: 0.0085 - accuracy: 0.9987 - val_loss: 10.0125 - val_accuracy: 0.3246\n",
            "Epoch 23/35\n",
            "72/72 [==============================] - 76s 1s/step - loss: 0.0014 - accuracy: 1.0000 - val_loss: 10.3347 - val_accuracy: 0.3267\n",
            "Epoch 24/35\n",
            "72/72 [==============================] - 76s 1s/step - loss: 8.9019e-04 - accuracy: 1.0000 - val_loss: 10.5304 - val_accuracy: 0.3262\n",
            "Epoch 25/35\n",
            "72/72 [==============================] - 76s 1s/step - loss: 6.8379e-04 - accuracy: 1.0000 - val_loss: 10.7003 - val_accuracy: 0.3267\n",
            "Epoch 26/35\n",
            "72/72 [==============================] - 76s 1s/step - loss: 5.6265e-04 - accuracy: 1.0000 - val_loss: 10.8199 - val_accuracy: 0.3262\n",
            "Epoch 27/35\n",
            "72/72 [==============================] - 76s 1s/step - loss: 4.8684e-04 - accuracy: 1.0000 - val_loss: 10.9395 - val_accuracy: 0.3256\n",
            "Epoch 28/35\n",
            "72/72 [==============================] - 76s 1s/step - loss: 4.1477e-04 - accuracy: 1.0000 - val_loss: 11.0349 - val_accuracy: 0.3262\n",
            "Epoch 29/35\n",
            "72/72 [==============================] - 76s 1s/step - loss: 3.6660e-04 - accuracy: 1.0000 - val_loss: 11.1360 - val_accuracy: 0.3267\n",
            "Epoch 30/35\n",
            "72/72 [==============================] - 76s 1s/step - loss: 3.2699e-04 - accuracy: 1.0000 - val_loss: 11.2303 - val_accuracy: 0.3262\n",
            "Epoch 31/35\n",
            "72/72 [==============================] - 76s 1s/step - loss: 2.9277e-04 - accuracy: 1.0000 - val_loss: 11.3110 - val_accuracy: 0.3262\n",
            "Epoch 32/35\n",
            "72/72 [==============================] - 76s 1s/step - loss: 2.6571e-04 - accuracy: 1.0000 - val_loss: 11.3915 - val_accuracy: 0.3262\n",
            "Epoch 33/35\n",
            "72/72 [==============================] - 76s 1s/step - loss: 2.4079e-04 - accuracy: 1.0000 - val_loss: 11.4704 - val_accuracy: 0.3262\n",
            "Epoch 34/35\n",
            "72/72 [==============================] - 76s 1s/step - loss: 2.2015e-04 - accuracy: 1.0000 - val_loss: 11.5346 - val_accuracy: 0.3262\n",
            "Epoch 35/35\n",
            "72/72 [==============================] - 76s 1s/step - loss: 2.0234e-04 - accuracy: 1.0000 - val_loss: 11.6049 - val_accuracy: 0.3262\n"
          ]
        },
        {
          "output_type": "execute_result",
          "data": {
            "text/plain": [
              "<keras.callbacks.History at 0x7f32295ef390>"
            ]
          },
          "metadata": {},
          "execution_count": 22
        }
      ],
      "source": [
        "cnn.fit(X_train, y_train, epochs=35, batch_size=64,validation_data=(X_val, y_val))"
      ]
    },
    {
      "cell_type": "markdown",
      "metadata": {
        "id": "tc3lSJ2a-OYt"
      },
      "source": [
        "## Validate the model\n",
        "Wonder🤔 how well your model learned! Lets check its performance on the X_val data."
      ]
    },
    {
      "cell_type": "code",
      "execution_count": 23,
      "metadata": {
        "id": "jLfoImV7ds57",
        "colab": {
          "base_uri": "https://localhost:8080/"
        },
        "outputId": "21e28ec8-03b6-4b66-d52f-2b1d0a4a843d"
      },
      "outputs": [
        {
          "output_type": "stream",
          "name": "stdout",
          "text": [
            "61/61 [==============================] - 8s 133ms/step - loss: 11.6049 - accuracy: 0.3262\n"
          ]
        },
        {
          "output_type": "execute_result",
          "data": {
            "text/plain": [
              "[11.60488224029541, 0.32615384459495544]"
            ]
          },
          "metadata": {},
          "execution_count": 23
        }
      ],
      "source": [
        "cnn.evaluate(X_val, y_val)"
      ]
    },
    {
      "cell_type": "markdown",
      "metadata": {
        "id": "kLrpm-If-lRT"
      },
      "source": [
        "## Predict The Output For Testing Dataset 😅\n",
        "We have trained our model, evaluated it and now finally we will predict the output/target for the testing data (i.e. Test.csv)."
      ]
    },
    {
      "cell_type": "markdown",
      "metadata": {
        "id": "nG70J6Un-s2G"
      },
      "source": [
        "#### Load Test Set\n",
        "Load the test data on which final submission is to be made."
      ]
    },
    {
      "cell_type": "code",
      "execution_count": 24,
      "metadata": {
        "id": "iji8OaFF-fSp",
        "colab": {
          "base_uri": "https://localhost:8080/",
          "height": 206
        },
        "outputId": "1f996f82-a0f6-4d54-f0af-c5e12ce69ee9"
      },
      "outputs": [
        {
          "output_type": "execute_result",
          "data": {
            "text/plain": [
              "      filename\n",
              "0  Image_1.jpg\n",
              "1  Image_2.jpg\n",
              "2  Image_3.jpg\n",
              "3  Image_4.jpg\n",
              "4  Image_5.jpg"
            ],
            "text/html": [
              "\n",
              "  <div id=\"df-1fee0626-c535-4bf2-9741-c96410832552\">\n",
              "    <div class=\"colab-df-container\">\n",
              "      <div>\n",
              "<style scoped>\n",
              "    .dataframe tbody tr th:only-of-type {\n",
              "        vertical-align: middle;\n",
              "    }\n",
              "\n",
              "    .dataframe tbody tr th {\n",
              "        vertical-align: top;\n",
              "    }\n",
              "\n",
              "    .dataframe thead th {\n",
              "        text-align: right;\n",
              "    }\n",
              "</style>\n",
              "<table border=\"1\" class=\"dataframe\">\n",
              "  <thead>\n",
              "    <tr style=\"text-align: right;\">\n",
              "      <th></th>\n",
              "      <th>filename</th>\n",
              "    </tr>\n",
              "  </thead>\n",
              "  <tbody>\n",
              "    <tr>\n",
              "      <th>0</th>\n",
              "      <td>Image_1.jpg</td>\n",
              "    </tr>\n",
              "    <tr>\n",
              "      <th>1</th>\n",
              "      <td>Image_2.jpg</td>\n",
              "    </tr>\n",
              "    <tr>\n",
              "      <th>2</th>\n",
              "      <td>Image_3.jpg</td>\n",
              "    </tr>\n",
              "    <tr>\n",
              "      <th>3</th>\n",
              "      <td>Image_4.jpg</td>\n",
              "    </tr>\n",
              "    <tr>\n",
              "      <th>4</th>\n",
              "      <td>Image_5.jpg</td>\n",
              "    </tr>\n",
              "  </tbody>\n",
              "</table>\n",
              "</div>\n",
              "      <button class=\"colab-df-convert\" onclick=\"convertToInteractive('df-1fee0626-c535-4bf2-9741-c96410832552')\"\n",
              "              title=\"Convert this dataframe to an interactive table.\"\n",
              "              style=\"display:none;\">\n",
              "        \n",
              "  <svg xmlns=\"http://www.w3.org/2000/svg\" height=\"24px\"viewBox=\"0 0 24 24\"\n",
              "       width=\"24px\">\n",
              "    <path d=\"M0 0h24v24H0V0z\" fill=\"none\"/>\n",
              "    <path d=\"M18.56 5.44l.94 2.06.94-2.06 2.06-.94-2.06-.94-.94-2.06-.94 2.06-2.06.94zm-11 1L8.5 8.5l.94-2.06 2.06-.94-2.06-.94L8.5 2.5l-.94 2.06-2.06.94zm10 10l.94 2.06.94-2.06 2.06-.94-2.06-.94-.94-2.06-.94 2.06-2.06.94z\"/><path d=\"M17.41 7.96l-1.37-1.37c-.4-.4-.92-.59-1.43-.59-.52 0-1.04.2-1.43.59L10.3 9.45l-7.72 7.72c-.78.78-.78 2.05 0 2.83L4 21.41c.39.39.9.59 1.41.59.51 0 1.02-.2 1.41-.59l7.78-7.78 2.81-2.81c.8-.78.8-2.07 0-2.86zM5.41 20L4 18.59l7.72-7.72 1.47 1.35L5.41 20z\"/>\n",
              "  </svg>\n",
              "      </button>\n",
              "      \n",
              "  <style>\n",
              "    .colab-df-container {\n",
              "      display:flex;\n",
              "      flex-wrap:wrap;\n",
              "      gap: 12px;\n",
              "    }\n",
              "\n",
              "    .colab-df-convert {\n",
              "      background-color: #E8F0FE;\n",
              "      border: none;\n",
              "      border-radius: 50%;\n",
              "      cursor: pointer;\n",
              "      display: none;\n",
              "      fill: #1967D2;\n",
              "      height: 32px;\n",
              "      padding: 0 0 0 0;\n",
              "      width: 32px;\n",
              "    }\n",
              "\n",
              "    .colab-df-convert:hover {\n",
              "      background-color: #E2EBFA;\n",
              "      box-shadow: 0px 1px 2px rgba(60, 64, 67, 0.3), 0px 1px 3px 1px rgba(60, 64, 67, 0.15);\n",
              "      fill: #174EA6;\n",
              "    }\n",
              "\n",
              "    [theme=dark] .colab-df-convert {\n",
              "      background-color: #3B4455;\n",
              "      fill: #D2E3FC;\n",
              "    }\n",
              "\n",
              "    [theme=dark] .colab-df-convert:hover {\n",
              "      background-color: #434B5C;\n",
              "      box-shadow: 0px 1px 3px 1px rgba(0, 0, 0, 0.15);\n",
              "      filter: drop-shadow(0px 1px 2px rgba(0, 0, 0, 0.3));\n",
              "      fill: #FFFFFF;\n",
              "    }\n",
              "  </style>\n",
              "\n",
              "      <script>\n",
              "        const buttonEl =\n",
              "          document.querySelector('#df-1fee0626-c535-4bf2-9741-c96410832552 button.colab-df-convert');\n",
              "        buttonEl.style.display =\n",
              "          google.colab.kernel.accessAllowed ? 'block' : 'none';\n",
              "\n",
              "        async function convertToInteractive(key) {\n",
              "          const element = document.querySelector('#df-1fee0626-c535-4bf2-9741-c96410832552');\n",
              "          const dataTable =\n",
              "            await google.colab.kernel.invokeFunction('convertToInteractive',\n",
              "                                                     [key], {});\n",
              "          if (!dataTable) return;\n",
              "\n",
              "          const docLinkHtml = 'Like what you see? Visit the ' +\n",
              "            '<a target=\"_blank\" href=https://colab.research.google.com/notebooks/data_table.ipynb>data table notebook</a>'\n",
              "            + ' to learn more about interactive tables.';\n",
              "          element.innerHTML = '';\n",
              "          dataTable['output_type'] = 'display_data';\n",
              "          await google.colab.output.renderOutput(dataTable, element);\n",
              "          const docLink = document.createElement('div');\n",
              "          docLink.innerHTML = docLinkHtml;\n",
              "          element.appendChild(docLink);\n",
              "        }\n",
              "      </script>\n",
              "    </div>\n",
              "  </div>\n",
              "  "
            ]
          },
          "metadata": {},
          "execution_count": 24
        }
      ],
      "source": [
        "# Loading the order of the image's name that has been provided\n",
        "test_image_order = pd.read_csv(\"/content/drive/MyDrive/Butterfly Identification/Testing_set.csv\")\n",
        "test_image_order.head()"
      ]
    },
    {
      "cell_type": "markdown",
      "metadata": {
        "id": "XhszUWXEAABu"
      },
      "source": [
        "#### Getting images file path"
      ]
    },
    {
      "cell_type": "code",
      "execution_count": 25,
      "metadata": {
        "id": "657fCek3_IhD"
      },
      "outputs": [],
      "source": [
        "file_paths = [[fname, '/content/drive/MyDrive/Butterfly Identification/test/' + fname] for fname in test_image_order['filename']]"
      ]
    },
    {
      "cell_type": "markdown",
      "metadata": {
        "id": "xmrgyltpALYg"
      },
      "source": [
        "#### Confirm if number of images in test folder is same as number of image names in 'Testing_set_face_mask.csv'"
      ]
    },
    {
      "cell_type": "code",
      "execution_count": 26,
      "metadata": {
        "id": "telGIa0JADdO",
        "colab": {
          "base_uri": "https://localhost:8080/"
        },
        "outputId": "3c75b4d9-3d38-4919-9293-1a46b8b3230d"
      },
      "outputs": [
        {
          "output_type": "stream",
          "name": "stdout",
          "text": [
            "Number of image names i.e.  2786 matches the number of file paths i.e.  2786\n"
          ]
        }
      ],
      "source": [
        "# Confirm if number of images is same as number of labels given\n",
        "if len(test_image_order) == len(file_paths):\n",
        "    print('Number of image names i.e. ', len(test_image_order), 'matches the number of file paths i.e. ', len(file_paths))\n",
        "else:\n",
        "    print('Number of image names does not match the number of filepaths')"
      ]
    },
    {
      "cell_type": "markdown",
      "metadata": {
        "id": "Wsa94YfqBInJ"
      },
      "source": [
        "#### Converting the file_paths to dataframe"
      ]
    },
    {
      "cell_type": "code",
      "execution_count": 27,
      "metadata": {
        "id": "3nH9rUnQBSnf",
        "colab": {
          "base_uri": "https://localhost:8080/",
          "height": 206
        },
        "outputId": "76c9a1ac-841f-4428-b3d5-d521f309dc3e"
      },
      "outputs": [
        {
          "output_type": "execute_result",
          "data": {
            "text/plain": [
              "      filename                                          filepaths\n",
              "0  Image_1.jpg  /content/drive/MyDrive/Butterfly Identificatio...\n",
              "1  Image_2.jpg  /content/drive/MyDrive/Butterfly Identificatio...\n",
              "2  Image_3.jpg  /content/drive/MyDrive/Butterfly Identificatio...\n",
              "3  Image_4.jpg  /content/drive/MyDrive/Butterfly Identificatio...\n",
              "4  Image_5.jpg  /content/drive/MyDrive/Butterfly Identificatio..."
            ],
            "text/html": [
              "\n",
              "  <div id=\"df-311406f2-2f34-4f1c-ba6f-a93def55a45f\">\n",
              "    <div class=\"colab-df-container\">\n",
              "      <div>\n",
              "<style scoped>\n",
              "    .dataframe tbody tr th:only-of-type {\n",
              "        vertical-align: middle;\n",
              "    }\n",
              "\n",
              "    .dataframe tbody tr th {\n",
              "        vertical-align: top;\n",
              "    }\n",
              "\n",
              "    .dataframe thead th {\n",
              "        text-align: right;\n",
              "    }\n",
              "</style>\n",
              "<table border=\"1\" class=\"dataframe\">\n",
              "  <thead>\n",
              "    <tr style=\"text-align: right;\">\n",
              "      <th></th>\n",
              "      <th>filename</th>\n",
              "      <th>filepaths</th>\n",
              "    </tr>\n",
              "  </thead>\n",
              "  <tbody>\n",
              "    <tr>\n",
              "      <th>0</th>\n",
              "      <td>Image_1.jpg</td>\n",
              "      <td>/content/drive/MyDrive/Butterfly Identificatio...</td>\n",
              "    </tr>\n",
              "    <tr>\n",
              "      <th>1</th>\n",
              "      <td>Image_2.jpg</td>\n",
              "      <td>/content/drive/MyDrive/Butterfly Identificatio...</td>\n",
              "    </tr>\n",
              "    <tr>\n",
              "      <th>2</th>\n",
              "      <td>Image_3.jpg</td>\n",
              "      <td>/content/drive/MyDrive/Butterfly Identificatio...</td>\n",
              "    </tr>\n",
              "    <tr>\n",
              "      <th>3</th>\n",
              "      <td>Image_4.jpg</td>\n",
              "      <td>/content/drive/MyDrive/Butterfly Identificatio...</td>\n",
              "    </tr>\n",
              "    <tr>\n",
              "      <th>4</th>\n",
              "      <td>Image_5.jpg</td>\n",
              "      <td>/content/drive/MyDrive/Butterfly Identificatio...</td>\n",
              "    </tr>\n",
              "  </tbody>\n",
              "</table>\n",
              "</div>\n",
              "      <button class=\"colab-df-convert\" onclick=\"convertToInteractive('df-311406f2-2f34-4f1c-ba6f-a93def55a45f')\"\n",
              "              title=\"Convert this dataframe to an interactive table.\"\n",
              "              style=\"display:none;\">\n",
              "        \n",
              "  <svg xmlns=\"http://www.w3.org/2000/svg\" height=\"24px\"viewBox=\"0 0 24 24\"\n",
              "       width=\"24px\">\n",
              "    <path d=\"M0 0h24v24H0V0z\" fill=\"none\"/>\n",
              "    <path d=\"M18.56 5.44l.94 2.06.94-2.06 2.06-.94-2.06-.94-.94-2.06-.94 2.06-2.06.94zm-11 1L8.5 8.5l.94-2.06 2.06-.94-2.06-.94L8.5 2.5l-.94 2.06-2.06.94zm10 10l.94 2.06.94-2.06 2.06-.94-2.06-.94-.94-2.06-.94 2.06-2.06.94z\"/><path d=\"M17.41 7.96l-1.37-1.37c-.4-.4-.92-.59-1.43-.59-.52 0-1.04.2-1.43.59L10.3 9.45l-7.72 7.72c-.78.78-.78 2.05 0 2.83L4 21.41c.39.39.9.59 1.41.59.51 0 1.02-.2 1.41-.59l7.78-7.78 2.81-2.81c.8-.78.8-2.07 0-2.86zM5.41 20L4 18.59l7.72-7.72 1.47 1.35L5.41 20z\"/>\n",
              "  </svg>\n",
              "      </button>\n",
              "      \n",
              "  <style>\n",
              "    .colab-df-container {\n",
              "      display:flex;\n",
              "      flex-wrap:wrap;\n",
              "      gap: 12px;\n",
              "    }\n",
              "\n",
              "    .colab-df-convert {\n",
              "      background-color: #E8F0FE;\n",
              "      border: none;\n",
              "      border-radius: 50%;\n",
              "      cursor: pointer;\n",
              "      display: none;\n",
              "      fill: #1967D2;\n",
              "      height: 32px;\n",
              "      padding: 0 0 0 0;\n",
              "      width: 32px;\n",
              "    }\n",
              "\n",
              "    .colab-df-convert:hover {\n",
              "      background-color: #E2EBFA;\n",
              "      box-shadow: 0px 1px 2px rgba(60, 64, 67, 0.3), 0px 1px 3px 1px rgba(60, 64, 67, 0.15);\n",
              "      fill: #174EA6;\n",
              "    }\n",
              "\n",
              "    [theme=dark] .colab-df-convert {\n",
              "      background-color: #3B4455;\n",
              "      fill: #D2E3FC;\n",
              "    }\n",
              "\n",
              "    [theme=dark] .colab-df-convert:hover {\n",
              "      background-color: #434B5C;\n",
              "      box-shadow: 0px 1px 3px 1px rgba(0, 0, 0, 0.15);\n",
              "      filter: drop-shadow(0px 1px 2px rgba(0, 0, 0, 0.3));\n",
              "      fill: #FFFFFF;\n",
              "    }\n",
              "  </style>\n",
              "\n",
              "      <script>\n",
              "        const buttonEl =\n",
              "          document.querySelector('#df-311406f2-2f34-4f1c-ba6f-a93def55a45f button.colab-df-convert');\n",
              "        buttonEl.style.display =\n",
              "          google.colab.kernel.accessAllowed ? 'block' : 'none';\n",
              "\n",
              "        async function convertToInteractive(key) {\n",
              "          const element = document.querySelector('#df-311406f2-2f34-4f1c-ba6f-a93def55a45f');\n",
              "          const dataTable =\n",
              "            await google.colab.kernel.invokeFunction('convertToInteractive',\n",
              "                                                     [key], {});\n",
              "          if (!dataTable) return;\n",
              "\n",
              "          const docLinkHtml = 'Like what you see? Visit the ' +\n",
              "            '<a target=\"_blank\" href=https://colab.research.google.com/notebooks/data_table.ipynb>data table notebook</a>'\n",
              "            + ' to learn more about interactive tables.';\n",
              "          element.innerHTML = '';\n",
              "          dataTable['output_type'] = 'display_data';\n",
              "          await google.colab.output.renderOutput(dataTable, element);\n",
              "          const docLink = document.createElement('div');\n",
              "          docLink.innerHTML = docLinkHtml;\n",
              "          element.appendChild(docLink);\n",
              "        }\n",
              "      </script>\n",
              "    </div>\n",
              "  </div>\n",
              "  "
            ]
          },
          "metadata": {},
          "execution_count": 27
        }
      ],
      "source": [
        "test_images = pd.DataFrame(file_paths, columns=['filename', 'filepaths'])\n",
        "test_images.head()"
      ]
    },
    {
      "cell_type": "markdown",
      "metadata": {
        "id": "ZqSujaW0CRi9"
      },
      "source": [
        "## Data Pre-processing on test_data\n"
      ]
    },
    {
      "cell_type": "code",
      "execution_count": 28,
      "metadata": {
        "id": "Wy7-NZ7TCiSQ"
      },
      "outputs": [],
      "source": [
        "test_pixel_data = []     # initialize an empty numpy array\n",
        "image_size = 100      # image size taken is 100 here. one can take other size too\n",
        "for i in range(len(test_images)):\n",
        "  \n",
        "  img_array = cv2.imread(test_images['filepaths'][i], cv2.IMREAD_GRAYSCALE)   # converting the image to gray scale\n",
        "\n",
        "  new_img_array = cv2.resize(img_array, (image_size, image_size))      # resizing the image array\n",
        "\n",
        "  test_pixel_data.append(new_img_array)"
      ]
    },
    {
      "cell_type": "code",
      "execution_count": 29,
      "metadata": {
        "id": "7KNDswlffvYq"
      },
      "outputs": [],
      "source": [
        "test_pixel_data = np.array(test_pixel_data)"
      ]
    },
    {
      "cell_type": "code",
      "execution_count": 30,
      "metadata": {
        "id": "lIeL1SHdCAcf"
      },
      "outputs": [],
      "source": [
        "test_pixel_data =  test_pixel_data.reshape(-1, 100, 100, 1)"
      ]
    },
    {
      "cell_type": "markdown",
      "metadata": {
        "id": "AxtDS6-0J0s2"
      },
      "source": [
        "### Make Prediction on Test Dataset\n",
        "Time to make a submission!!!"
      ]
    },
    {
      "cell_type": "code",
      "execution_count": 31,
      "metadata": {
        "id": "yXLCDKVrJuzY"
      },
      "outputs": [],
      "source": [
        "pred = cnn.predict(test_pixel_data)"
      ]
    },
    {
      "cell_type": "code",
      "execution_count": 32,
      "metadata": {
        "id": "MYeK05BHLAen",
        "colab": {
          "base_uri": "https://localhost:8080/"
        },
        "outputId": "99e98a1b-aaa9-4b45-c47b-387689b7983e"
      },
      "outputs": [
        {
          "output_type": "execute_result",
          "data": {
            "text/plain": [
              "array([4.70117482e-14, 7.48873664e-29, 9.89302613e-16, 2.13228320e-22,\n",
              "       2.06428282e-16, 9.60698178e-33, 5.71566242e-19, 3.67297415e-10,\n",
              "       4.88598880e-06, 2.64119475e-31, 3.18109139e-09, 5.17654901e-19,\n",
              "       3.22223374e-19, 9.61310430e-18, 2.17840306e-14, 1.88786990e-11,\n",
              "       8.87965235e-18, 1.53085573e-20, 1.01170547e-22, 7.35140109e-22,\n",
              "       9.28306668e-11, 2.02651944e-16, 1.41023905e-24, 1.76804003e-24,\n",
              "       2.24527576e-16, 6.63678973e-11, 3.98943571e-16, 9.29508274e-14,\n",
              "       1.06562942e-32, 2.46714658e-17, 7.12330611e-11, 3.90673797e-17,\n",
              "       3.31633673e-26, 1.34752591e-14, 2.99235753e-20, 1.16144761e-17,\n",
              "       1.63456807e-05, 1.40471997e-16, 6.04096580e-14, 7.98109951e-08,\n",
              "       2.79561424e-15, 1.96276084e-02, 4.59234074e-11, 5.78207355e-24,\n",
              "       1.17524513e-26, 1.40497257e-30, 1.43051219e-19, 1.03372770e-07,\n",
              "       2.25425956e-10, 1.55263599e-32, 2.78048694e-25, 4.36483543e-25,\n",
              "       2.51100188e-18, 1.27459350e-25, 3.19287282e-31, 5.52622294e-17,\n",
              "       2.66716313e-25, 3.26432967e-15, 2.39358661e-24, 3.62777264e-22,\n",
              "       8.29583712e-07, 1.98501013e-18, 4.56893745e-10, 6.27908568e-17,\n",
              "       8.16686621e-29, 1.38825592e-28, 5.74783493e-12, 1.02547926e-23,\n",
              "       1.01252419e-29, 9.80350137e-01, 8.30360988e-11, 2.35176584e-29,\n",
              "       8.79696888e-21, 3.37729809e-11, 5.18163364e-24], dtype=float32)"
            ]
          },
          "metadata": {},
          "execution_count": 32
        }
      ],
      "source": [
        "# The predicted values are the probabilities value\n",
        "pred[0]"
      ]
    },
    {
      "cell_type": "markdown",
      "metadata": {
        "id": "9a_WAXliLut8"
      },
      "source": [
        "The above values are probability values. We need to convert it into respective classes. We can use np.argmax for the same."
      ]
    },
    {
      "cell_type": "code",
      "execution_count": 33,
      "metadata": {
        "id": "3BB9EAnYLCCM"
      },
      "outputs": [],
      "source": [
        "prediction = []\n",
        "for value in pred:\n",
        "  prediction.append(np.argmax(value))"
      ]
    },
    {
      "cell_type": "code",
      "execution_count": 34,
      "metadata": {
        "id": "cz9sUjoOeov8"
      },
      "outputs": [],
      "source": [
        "predictions = le.inverse_transform(prediction)"
      ]
    },
    {
      "cell_type": "code",
      "execution_count": 35,
      "metadata": {
        "id": "5I2wAC5RMwvJ"
      },
      "outputs": [],
      "source": [
        "res = pd.DataFrame({'filename': test_images['filename'], 'label': predictions})  # prediction is nothing but the final predictions of your model on input features of your new unseen test data\n",
        "res.to_csv(\"submission.csv\", index = False)      # the csv file will be saved locally on the same location where this notebook is located."
      ]
    }
  ],
  "metadata": {
    "colab": {
      "collapsed_sections": [],
      "name": "butterfly-identification.ipynb",
      "provenance": []
    },
    "kernelspec": {
      "display_name": "Python 3",
      "name": "python3"
    }
  },
  "nbformat": 4,
  "nbformat_minor": 0
}